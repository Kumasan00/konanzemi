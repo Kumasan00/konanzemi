{
  "nbformat": 4,
  "nbformat_minor": 0,
  "metadata": {
    "colab": {
      "provenance": [],
      "authorship_tag": "ABX9TyMIQ1OL5wuVptBVHkjyjE7x",
      "include_colab_link": true
    },
    "kernelspec": {
      "name": "python3",
      "display_name": "Python 3"
    },
    "language_info": {
      "name": "python"
    }
  },
  "cells": [
    {
      "cell_type": "markdown",
      "metadata": {
        "id": "view-in-github",
        "colab_type": "text"
      },
      "source": [
        "<a href=\"https://colab.research.google.com/github/Kumasan00/konanzemi/blob/main/sound.ipynb\" target=\"_parent\"><img src=\"https://colab.research.google.com/assets/colab-badge.svg\" alt=\"Open In Colab\"/></a>"
      ]
    },
    {
      "cell_type": "code",
      "execution_count": null,
      "metadata": {
        "id": "2p3-BTLNZrIG"
      },
      "outputs": [],
      "source": [
        "import numpy as np\n",
        "import IPython"
      ]
    },
    {
      "cell_type": "code",
      "source": [
        "rate = 48000\n",
        "duration = 1.0\n",
        "t = np.linspace(0., duration, int(rate*duration))\n",
        "print(t)\n",
        "x = np.sin(2.0*np.pi*440.0*t)\n",
        "print(x)\n",
        "IPython.display.Audio(x, rate=rate, autoplay=True)"
      ],
      "metadata": {
        "id": "IzOdwspfM0-0"
      },
      "execution_count": null,
      "outputs": []
    },
    {
      "cell_type": "code",
      "source": [
        "import time\n",
        "freqs = [0] + [440.0 * 2.0**((i-9)/12.0) for i in range(12)]\n",
        "notes = [\"R\", \"C\",\"C#\",\"D\",\"D#\",\"E\",\"F\",\"F#\",\"G\",\"G#\",\"A\",\"A#\",\"B\"]\n",
        "dic = {}\n",
        "rate = 48000\n",
        "BPM = 120\n",
        "qn_duration = 60.0/BPM\n",
        "for i, s in enumerate(notes):\n",
        "    dic[s] = i\n",
        "mml_twinkle_star = \"CCGGAAGRFFEEDDCRGGFFEEDRGGFFEEDRCCGGAAGRFFEEDDCR\"\n",
        "t = np.linspace(0.0, qn_duration, int(rate*qn_duration))\n",
        "music = np.array([])\n",
        "for s in list(mml_twinkle_star):\n",
        "  f = freqs[dic[s]]\n",
        "  music = np.append(music, np.sin(2.0*np.pi*f*t))\n",
        "for char in mml_twinkle_star:\n",
        "  print(char, end=\"\", flush=True)\n",
        "  time.sleep(qn_duration)\n",
        "IPython.display.Audio(music, rate=rate, autoplay=True)"
      ],
      "metadata": {
        "id": "neg421jPB5RL"
      },
      "execution_count": null,
      "outputs": []
    }
  ]
}