{
  "cells": [
    {
      "cell_type": "markdown",
      "metadata": {
        "id": "view-in-github",
        "colab_type": "text"
      },
      "source": [
        "<a href=\"https://colab.research.google.com/github/Kumasan00/konanzemi/blob/main/changeimage.ipynb\" target=\"_parent\"><img src=\"https://colab.research.google.com/assets/colab-badge.svg\" alt=\"Open In Colab\"/></a>"
      ]
    },
    {
      "cell_type": "code",
      "execution_count": null,
      "metadata": {
        "id": "Rfluvc-aSg6E"
      },
      "outputs": [],
      "source": [
        "from PIL import Image\n",
        "import csv\n",
        "# 画像ファイルを読み込む\n",
        "img = Image.open('/content/drive/MyDrive/画像/wallpaper_00291.jpg')\n",
        "# 画像のピクセルデータを取得\n",
        "pixels = img.load()\n",
        "# 画像の幅と高さを取得\n",
        "width, height = img.size\n",
        "\n",
        "# RGB値を格納するリストを初期化\n",
        "#rgb_values = []\n",
        "# RGB値を列ごと\n",
        "r_values = []\n",
        "g_values = []\n",
        "b_values = []\n",
        "\n",
        "# 画像の各ピクセルのRGB値をリストに格納\n",
        "for y in range(height):\n",
        "  tmp_r = []\n",
        "  tmp_g = []\n",
        "  tmp_b = []\n",
        "  for x in range(width):\n",
        "    r, g, b = pixels[x, y]\n",
        "    tmp_r.append(r)\n",
        "    tmp_g.append(g)\n",
        "    tmp_b.append(b)\n",
        "    #rgb_values.append((r, g, b))\n",
        "  r_values.append(tmp_r)\n",
        "  g_values.append(tmp_g)\n",
        "  b_values.append(tmp_b)\n",
        "# CSVファイルにRGB値を書き込む\n",
        "with open('/content/drive/MyDrive/画像/image_r.csv', 'w', newline='') as csvfile:\n",
        "  writer = csv.writer(csvfile)\n",
        "  for item in r_values:\n",
        "    writer.writerow(item)\n",
        "with open('/content/drive/MyDrive/画像/image_g.csv', 'w', newline='') as csvfile:\n",
        "  writer = csv.writer(csvfile)\n",
        "  for item in g_values:\n",
        "    writer.writerow(item)\n",
        "with open('/content/drive/MyDrive/画像/image_b.csv', 'w', newline='') as csvfile:\n",
        "  writer = csv.writer(csvfile)\n",
        "  for item in b_values:\n",
        "    writer.writerow(item)\n"
      ]
    },
    {
      "cell_type": "code",
      "execution_count": null,
      "metadata": {
        "id": "lRrHXMbv6Ryl"
      },
      "outputs": [],
      "source": [
        "from PIL import Image\n",
        "import csv\n",
        "# CSVファイルからRGB値を読み込む\n",
        "r_values = []\n",
        "g_values = []\n",
        "b_values = []\n",
        "with open('/content/drive/MyDrive/画像/image_r.csv', newline='') as csvfile:\n",
        "  reader = csv.reader(csvfile)\n",
        "  # 行数を数える\n",
        "  height = sum(1 for row in reader)\n",
        "  # CSVファイルを開き直す\n",
        "  csvfile.seek(0)\n",
        "  # 列数を数える\n",
        "  width = len(next(reader))\n",
        "  print(f\"width = {width}, height = {height}\")\n",
        "  # 値を取り出す, 一次元で格納([x, y]→ [y * width + x] )\n",
        "  for row in reader:\n",
        "    for item in row:\n",
        "      r_values.append(int(item))\n",
        "with open('/content/drive/MyDrive/画像/image_g.csv', newline='') as csvfile:\n",
        "  reader = csv.reader(csvfile)\n",
        "  for row in reader:\n",
        "    for item in row:\n",
        "      g_values.append(int(item))\n",
        "with open('/content/drive/MyDrive/画像/image_b.csv', newline='') as csvfile:\n",
        "  reader = csv.reader(csvfile)\n",
        "  for row in reader:\n",
        "    for item in row:\n",
        "      b_values.append(int(item))\n",
        "\n",
        "# RGB値を元に画像を作成する\n",
        "new_img = Image.new('RGB', (width, height))\n",
        "new_pixels = new_img.load()\n",
        "for y in range(height):\n",
        "  for x in range(width):\n",
        "    max = len(r_values)\n",
        "    if(y * width + x < max):\n",
        "      new_pixels[x, y] = (r_values[y * width + x], g_values[y * width + x], b_values[y * width + x])#タプル表記(R, G, B)\n",
        "\n",
        "# 画像を保存する\n",
        "new_img.save(\"/content/drive/MyDrive/画像/target_after.jpg\")\n",
        "# 画像を表示する\n",
        "new_img"
      ]
    },
    {
      "cell_type": "code",
      "execution_count": null,
      "metadata": {
        "id": "T0-TGp9b2qT4"
      },
      "outputs": [],
      "source": [
        "from PIL import Image\n",
        "import csv\n",
        "# 画像ファイルを読み込む\n",
        "img = Image.open('/content/drive/MyDrive/画像/wallpaper_00291.jpg')\n",
        "# 画像のピクセルデータを取得\n",
        "pixels = img.load()\n",
        "# 画像の幅と高さを取得\n",
        "width, height = img.size\n",
        "print(width, height)\n",
        "\n",
        "# RGB値を格納するリストを初期化\n",
        "#rgb_values = []\n",
        "# RGB値を列ごと\n",
        "r_values = []\n",
        "g_values = []\n",
        "b_values = []\n",
        "\n",
        "# 画像の各ピクセルのRGB値をリストに格納\n",
        "for x in range(width):\n",
        "  tmp_r = []\n",
        "  tmp_g = []\n",
        "  tmp_b = []\n",
        "  for y in range(height):\n",
        "    r, g, b = pixels[x, y]\n",
        "    tmp_r.append(r)\n",
        "    tmp_g.append(g)\n",
        "    tmp_b.append(b)\n",
        "    #rgb_values.append((r, g, b))\n",
        "  r_values.append(tmp_r)\n",
        "  g_values.append(tmp_g)\n",
        "  b_values.append(tmp_b)\n",
        "\n",
        "# RGB値を元に画像を作成する\n",
        "new_img = Image.new('RGB', (width, height))\n",
        "new_pixels = new_img.load()\n",
        "for y in range(height):\n",
        "  for x in range(width):\n",
        "    new_pixels[x, y] = (r_values[x][y], g_values[x][y], b_values[x][y])#タプル表記(R, G, B)\n",
        "    # new_pixels[x, y] = (r_values[y * width + x],0,0)#タプル表記(R, G, B)\n",
        "\n",
        "new_img"
      ]
    },
    {
      "cell_type": "code",
      "execution_count": null,
      "metadata": {
        "id": "RBFU6byyI-ru"
      },
      "outputs": [],
      "source": [
        "def adjustment(num :int) -> int:\n",
        "  if num <=128:\n",
        "    return 0\n",
        "  else:\n",
        "    return 255\n",
        "\n",
        "class RGB:\n",
        "  def __init__(self,r,g,b) -> None:\n",
        "    self.r = r\n",
        "    self.g = g\n",
        "    self.b = b\n",
        "\n",
        "  def adjustment(self) -> None:\n",
        "    self.r = adjustment(r)\n",
        "    self.g = adjustment(g)\n",
        "    self.b = adjustment(b)\n",
        "\n",
        "  def RGB_value(self) -> tuple:\n",
        "    return((self.r,self.g,self.b))"
      ]
    },
    {
      "cell_type": "code",
      "execution_count": null,
      "metadata": {
        "id": "TJmVWccXI_30"
      },
      "outputs": [],
      "source": [
        "from PIL import Image\n",
        "import csv\n",
        "# 画像ファイルを読み込む\n",
        "img = Image.open('/content/drive/MyDrive/画像/pexels-steve-1585325.jpg')\n",
        "# 画像のピクセルデータを取得\n",
        "pixels = img.load()\n",
        "# 画像の幅と高さを取得\n",
        "width, height = img.size\n",
        "print(width, height)\n",
        "\n",
        "new_img = Image.new('RGB', (width, height))\n",
        "new_pixels = new_img.load()\n",
        "\n",
        "for x in range(width):\n",
        "  for y in range(height):\n",
        "    r ,g ,b = pixels[x, y]\n",
        "    rgb = RGB(r ,g ,b)\n",
        "    rgb.adjustment()\n",
        "    new_pixels[x, y] = rgb.RGB_value()\n",
        "\n",
        "new_img"
      ]
    }
  ],
  "metadata": {
    "colab": {
      "gpuType": "T4",
      "provenance": [],
      "mount_file_id": "130cjJOXohbLegFo25E49HwgvWK8EEVz3",
      "authorship_tag": "ABX9TyP9uYET1vMAC4kgMIUHwswl",
      "include_colab_link": true
    },
    "kernelspec": {
      "display_name": "Python 3",
      "name": "python3"
    },
    "language_info": {
      "name": "python"
    }
  },
  "nbformat": 4,
  "nbformat_minor": 0
}