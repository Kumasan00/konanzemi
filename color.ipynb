{
  "nbformat": 4,
  "nbformat_minor": 0,
  "metadata": {
    "colab": {
      "provenance": [],
      "authorship_tag": "ABX9TyNwtqkOkMO+CZjIN8BATqfP",
      "include_colab_link": true
    },
    "kernelspec": {
      "name": "python3",
      "display_name": "Python 3"
    },
    "language_info": {
      "name": "python"
    }
  },
  "cells": [
    {
      "cell_type": "markdown",
      "metadata": {
        "id": "view-in-github",
        "colab_type": "text"
      },
      "source": [
        "<a href=\"https://colab.research.google.com/github/Kumasan00/konanzemi/blob/main/color.ipynb\" target=\"_parent\"><img src=\"https://colab.research.google.com/assets/colab-badge.svg\" alt=\"Open In Colab\"/></a>"
      ]
    },
    {
      "cell_type": "code",
      "source": [
        "import matplotlib.pyplot as plt\n",
        "from matplotlib.colors import LinearSegmentedColormap\n",
        "import numpy as np\n",
        "\n",
        "gradient = np.linspace(0, 255, 256)\n",
        "gradient = np.vstack((gradient, gradient))\n",
        "\n",
        "def plot_color_gradients(j,*cmap_list):\n",
        "  leng = len(cmap_list)\n",
        "  fig, axs = plt.subplots(nrows=1, ncols=leng, figsize=(leng, 1))\n",
        "  for i in range(leng):\n",
        "    axs[i].imshow(gradient, aspect='auto', cmap=cmap_list[i],)\n",
        "    axs[i].set_axis_off()\n",
        "  fig.suptitle(j,y=1,fontsize='small')\n",
        "  plt.show()\n",
        "\n",
        "\n",
        "def color_map(start:tuple,end:tuple):\n",
        "  s = [format(i,\"02x\") for i in start]\n",
        "  e = [format(i,\"02x\") for i in end]\n",
        "  colors = [f\"#{s[0]}{s[1]}{s[2]}\", f\"#{e[0]}{e[1]}{e[2]}\"]\n",
        "  cmap = LinearSegmentedColormap.from_list('my_list', colors, N=2)\n",
        "  return cmap\n",
        "\n",
        "for j in range (256):\n",
        "  cmap1 = color_map((0,255,0),(j,255,0))\n",
        "  cmap2 = color_map((0,0,255),(0,j,255))\n",
        "  cmap3 = color_map((255,0,0),(255,0,j))\n",
        "\n",
        "  plot_color_gradients(j,cmap1,cmap2,cmap3)\n",
        "  # a = input()\n",
        "  # if a != \"\":\n",
        "  #   print(j)\n",
        "  #   break"
      ],
      "metadata": {
        "id": "iS_HXkTwq0xb"
      },
      "execution_count": null,
      "outputs": []
    }
  ]
}