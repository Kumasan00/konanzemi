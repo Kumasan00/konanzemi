{
  "nbformat": 4,
  "nbformat_minor": 0,
  "metadata": {
    "colab": {
      "provenance": [],
      "toc_visible": true,
      "include_colab_link": true
    },
    "kernelspec": {
      "name": "python3",
      "display_name": "Python 3"
    },
    "language_info": {
      "name": "python"
    }
  },
  "cells": [
    {
      "cell_type": "markdown",
      "metadata": {
        "id": "view-in-github",
        "colab_type": "text"
      },
      "source": [
        "<a href=\"https://colab.research.google.com/github/Kumasan00/konanzemi/blob/main/zemi.ipynb\" target=\"_parent\"><img src=\"https://colab.research.google.com/assets/colab-badge.svg\" alt=\"Open In Colab\"/></a>"
      ]
    },
    {
      "cell_type": "markdown",
      "source": [
        "# 当たる確率\n"
      ],
      "metadata": {
        "id": "YJqh3eCUm85l"
      }
    },
    {
      "cell_type": "markdown",
      "source": [
        "##確率列挙"
      ],
      "metadata": {
        "id": "VWh3a0AdkRR_"
      }
    },
    {
      "cell_type": "code",
      "execution_count": null,
      "metadata": {
        "id": "MWtpsylN6IFQ"
      },
      "outputs": [],
      "source": [
        "import math\n",
        "# pの確率の確率機をnum回回したときm回当たる確率\n",
        "num = 1000\n",
        "p = 3/1000\n",
        "\n",
        "def comb(n,r):\n",
        "  denominator = math.factorial(r)\n",
        "  _list = range(n,n-r,-1)\n",
        "  numerator = math.prod(_list)\n",
        "  return numerator/denominator\n",
        "\n",
        "\n",
        "def probability(x):\n",
        "  y = comb(num,x)*((p**x)*((1-p)**(num-x)))\n",
        "  return y\n",
        "\n",
        "for x in range (0,num+1):\n",
        "  y = probability(x)\n",
        "  a = \"{:0>4}\".format(x)\n",
        "  print(f\"{a}回あたり\",\"{:.100f}\".format(y))"
      ]
    },
    {
      "cell_type": "markdown",
      "source": [
        "##グラフ"
      ],
      "metadata": {
        "id": "Y6-qqjpJkKYf"
      }
    },
    {
      "cell_type": "code",
      "source": [
        "import math\n",
        "from matplotlib import pyplot as pyp\n",
        "# pの確率の確率機をnum回回したときm回当たる確率\n",
        "num = 1000\n",
        "p = 3/1000\n",
        "\n",
        "def comb(n,r):\n",
        "  denominator = math.factorial(r)\n",
        "  _list = range(n,n-r,-1)\n",
        "  numerator = math.prod(_list)\n",
        "  return numerator/denominator\n",
        "\n",
        "\n",
        "def probability(x):\n",
        "  y = comb(num,x)*((p**x)*((1-p)**(num-x)))\n",
        "  return y\n",
        "\n",
        "\n",
        "def data():\n",
        "  labels = []\n",
        "  date = []\n",
        "  x = 0\n",
        "  while(True):\n",
        "    y =probability(x)\n",
        "    labels.append(f\"{x}tiimes\")\n",
        "    date.append(y)\n",
        "    x +=1\n",
        "    if (y<0.01):\n",
        "      break\n",
        "  sum = math.fsum(date)\n",
        "  other = 1-sum\n",
        "  labels.append(\"other\")\n",
        "  date.append(other)\n",
        "  return date,labels\n",
        "\n",
        "\n",
        "date,labels = data()\n",
        "pyp.pie(date,labels=labels,autopct=\"%1.1f%%\",)\n",
        "pyp.show()"
      ],
      "metadata": {
        "id": "c1yQfeUzUGYs"
      },
      "execution_count": null,
      "outputs": []
    },
    {
      "cell_type": "markdown",
      "source": [
        "# 何回で減るか"
      ],
      "metadata": {
        "id": "yGIjw146nF6Y"
      }
    },
    {
      "cell_type": "code",
      "source": [
        "p = 3/1000 #あたりの確率\n",
        "i = 1\n",
        "while(True):\n",
        "  a = 1-((1-p)**i)\n",
        "  I = \"{:0>2}\".format(i)\n",
        "  print(f\"{I}回目\",\"{:.10f}\".format(a))\n",
        "  i = i + 1\n",
        "  if(a > 0.99):\n",
        "    break"
      ],
      "metadata": {
        "id": "xY6EKk9hxu24"
      },
      "execution_count": null,
      "outputs": []
    },
    {
      "cell_type": "markdown",
      "source": [
        "# 宝くじが当たる確率"
      ],
      "metadata": {
        "id": "APQTuyxh5FEJ"
      }
    },
    {
      "cell_type": "code",
      "source": [
        "n = 100 #買う本数\n",
        "num = 20000000 #総数\n",
        "print((num-n)/num)"
      ],
      "metadata": {
        "id": "37h9VooLFuw7"
      },
      "execution_count": null,
      "outputs": []
    },
    {
      "cell_type": "markdown",
      "source": [
        "# 誕生日"
      ],
      "metadata": {
        "id": "7qasiVsYJZ5n"
      }
    },
    {
      "cell_type": "code",
      "source": [
        "n = 365\n",
        "p = 1\n",
        "for i in range(0,n):\n",
        "  p = p *(365-i)/365\n",
        "  print(i+1,(1-p)*100)"
      ],
      "metadata": {
        "id": "pT0-NB3vJePF"
      },
      "execution_count": null,
      "outputs": []
    },
    {
      "cell_type": "markdown",
      "source": [
        "# その他"
      ],
      "metadata": {
        "id": "EtPyis66LtGu"
      }
    },
    {
      "cell_type": "code",
      "source": [
        "!python -V"
      ],
      "metadata": {
        "id": "qH4YxF73L1nX"
      },
      "execution_count": null,
      "outputs": []
    },
    {
      "cell_type": "code",
      "source": [
        "import sys\n",
        "info = sys.float_info\n",
        "print(info)"
      ],
      "metadata": {
        "id": "aL-TCFpni46o"
      },
      "execution_count": null,
      "outputs": []
    },
    {
      "cell_type": "markdown",
      "source": [
        "[python sys docs](https://docs.python.org/ja/3/library/sys.html#sys.float_info.epsilon)"
      ],
      "metadata": {
        "id": "acx7iaH-mdJJ"
      }
    }
  ]
}